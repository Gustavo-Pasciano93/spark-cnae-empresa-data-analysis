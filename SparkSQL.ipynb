{
  "nbformat": 4,
  "nbformat_minor": 0,
  "metadata": {
    "colab": {
      "provenance": []
    },
    "kernelspec": {
      "name": "python3",
      "display_name": "Python 3"
    },
    "language_info": {
      "name": "python"
    }
  },
  "cells": [
    {
      "cell_type": "markdown",
      "source": [
        "Instalando as dependências"
      ],
      "metadata": {
        "id": "T855NvvP1MK0"
      }
    },
    {
      "cell_type": "code",
      "source": [
        "!apt-get update -qq\n",
        "!apt-get install openjdk-8-jdk-headless -qq > /dev/null\n",
        "!wget -q https://archive.apache.org/dist/spark/spark-3.1.2/spark-3.1.2-bin-hadoop2.7.tgz\n",
        "!tar xf spark-3.1.2-bin-hadoop2.7.tgz\n",
        "!pip install -q findspark"
      ],
      "metadata": {
        "colab": {
          "base_uri": "https://localhost:8080/"
        },
        "id": "q3HsdbYw1Ukd",
        "outputId": "b3fa3870-891b-4118-ec1f-08d24f203988"
      },
      "execution_count": 2,
      "outputs": [
        {
          "output_type": "stream",
          "name": "stdout",
          "text": [
            "W: Skipping acquire of configured file 'main/source/Sources' as repository 'https://r2u.stat.illinois.edu/ubuntu jammy InRelease' does not seem to provide it (sources.list entry misspelt?)\n"
          ]
        }
      ]
    },
    {
      "cell_type": "code",
      "source": [
        "import os\n",
        "os.environ[\"JAVA_HOME\"] = \"/usr/lib/jvm/java-8-openjdk-amd64\"\n",
        "os.environ[\"SPARK_HOME\"] = \"/content/spark-3.1.2-bin-hadoop2.7\""
      ],
      "metadata": {
        "id": "gb78Uizh2f5A"
      },
      "execution_count": 3,
      "outputs": []
    },
    {
      "cell_type": "code",
      "source": [
        "import findspark\n",
        "findspark.init()"
      ],
      "metadata": {
        "id": "JkW68chP2hkJ"
      },
      "execution_count": 4,
      "outputs": []
    },
    {
      "cell_type": "markdown",
      "source": [
        "Abrindo a sessão do Spark"
      ],
      "metadata": {
        "id": "P-i7jvPd2qgk"
      }
    },
    {
      "cell_type": "code",
      "source": [
        "from pyspark.sql import SparkSession\n",
        "\n",
        "spark = SparkSession.builder\\\n",
        ".master('local[*]')\\\n",
        ".appName(\"Primeiro projeto Spark\")\\\n",
        ".config('spark.ui.port', '4050')\\\n",
        ".getOrCreate()"
      ],
      "metadata": {
        "id": "OjRoBKVH23LO"
      },
      "execution_count": 5,
      "outputs": []
    },
    {
      "cell_type": "code",
      "source": [
        "!wget -q https://bin.equinox.io/c/4VmDzA7iaHb/ngrok-stable-linux-amd64.zip\n",
        "!unzip ngrok-stable-linux-amd64.zip"
      ],
      "metadata": {
        "colab": {
          "base_uri": "https://localhost:8080/"
        },
        "id": "3HEdaepN4AjR",
        "outputId": "a469a962-1050-45a3-fb01-75a8c76a6bd7"
      },
      "execution_count": 6,
      "outputs": [
        {
          "output_type": "stream",
          "name": "stdout",
          "text": [
            "Archive:  ngrok-stable-linux-amd64.zip\n",
            "  inflating: ngrok                   \n"
          ]
        }
      ]
    },
    {
      "cell_type": "code",
      "source": [
        "get_ipython().system_raw('./ngrok authtoken 2qAxCok2L28Y6iDPEmGranW6E6Z_3FkB9EdubmzZ2u6YRerD9')\n",
        "get_ipython().system_raw('./ngrok http 4050 &')"
      ],
      "metadata": {
        "id": "_Pg2v6yH4Imp"
      },
      "execution_count": 7,
      "outputs": []
    },
    {
      "cell_type": "code",
      "source": [
        "!curl -s http://localhost:4040/api/tunnels"
      ],
      "metadata": {
        "id": "Z6IvhYNN4Ko8"
      },
      "execution_count": 8,
      "outputs": []
    },
    {
      "cell_type": "code",
      "source": [
        "spark"
      ],
      "metadata": {
        "colab": {
          "base_uri": "https://localhost:8080/",
          "height": 219
        },
        "id": "0cq3txgX4Sgk",
        "outputId": "b62d8342-db0b-4323-e17c-4034bfeb5f5d"
      },
      "execution_count": 9,
      "outputs": [
        {
          "output_type": "execute_result",
          "data": {
            "text/plain": [
              "<pyspark.sql.session.SparkSession at 0x7b1aa28bb2e0>"
            ],
            "text/html": [
              "\n",
              "            <div>\n",
              "                <p><b>SparkSession - in-memory</b></p>\n",
              "                \n",
              "        <div>\n",
              "            <p><b>SparkContext</b></p>\n",
              "\n",
              "            <p><a href=\"http://797b3aaeaeb0:4050\">Spark UI</a></p>\n",
              "\n",
              "            <dl>\n",
              "              <dt>Version</dt>\n",
              "                <dd><code>v3.1.2</code></dd>\n",
              "              <dt>Master</dt>\n",
              "                <dd><code>local[*]</code></dd>\n",
              "              <dt>AppName</dt>\n",
              "                <dd><code>Primeiro projeto Spark</code></dd>\n",
              "            </dl>\n",
              "        </div>\n",
              "        \n",
              "            </div>\n",
              "        "
            ]
          },
          "metadata": {},
          "execution_count": 9
        }
      ]
    },
    {
      "cell_type": "markdown",
      "source": [
        "Montando o Drive para poder subir os arquivos"
      ],
      "metadata": {
        "id": "wqCdSPHy4Ypq"
      }
    },
    {
      "cell_type": "code",
      "source": [
        "from google.colab import drive\n",
        "drive.mount('/content/drive')"
      ],
      "metadata": {
        "colab": {
          "base_uri": "https://localhost:8080/"
        },
        "id": "hYMKcDYL4bix",
        "outputId": "a6b67ee6-63bb-4f1a-da36-19676ad94d09"
      },
      "execution_count": 10,
      "outputs": [
        {
          "output_type": "stream",
          "name": "stdout",
          "text": [
            "Mounted at /content/drive\n"
          ]
        }
      ]
    },
    {
      "cell_type": "markdown",
      "source": [
        "Carregando os arquivos"
      ],
      "metadata": {
        "id": "YiEjFvlS5GKu"
      }
    },
    {
      "cell_type": "code",
      "source": [
        "path = '/content/drive/MyDrive/empresas'\n",
        "# Carregar o arquivo como texto simples\n",
        "empresas_raw = spark.read.text(path)\n",
        "\n",
        "# Mostrar as primeiras linhas\n",
        "empresas_raw.show(truncate=False)\n"
      ],
      "metadata": {
        "colab": {
          "base_uri": "https://localhost:8080/"
        },
        "id": "oC47T7ch5Hyy",
        "outputId": "e81ab2ce-ffad-4eb2-d69d-2b8f4409fb14"
      },
      "execution_count": 31,
      "outputs": [
        {
          "output_type": "stream",
          "name": "stdout",
          "text": [
            "+-------------------------------------------------------------------------------------+\n",
            "|value                                                                                |\n",
            "+-------------------------------------------------------------------------------------+\n",
            "|\"cnpj,nome_fantasia,porte,municipio,cnae_principal \",\"\",\"\",\"\",\"\",\"\",\"\",\"\",\"\",\"\"      |\n",
            "|\"00000001,Construtora Alpha,Grande,São Paulo,4100 \",\"\",\"\",\"\",\"\",\"\",\"\",\"\",\"\",\"\"       |\n",
            "|\"00000002,Padaria Central,Pequeno,Rio de Janeiro,1071 \",\"\",\"\",\"\",\"\",\"\",\"\",\"\",\"\",\"\"   |\n",
            "|\"00000003,Ferreira Transportes,Médio,Belo Horizonte,4930 \",\"\",\"\",\"\",\"\",\"\",\"\",\"\",\"\",\"\"|\n",
            "|\"00000004,Loja Econômica,Micro,Curitiba,4712 \",\"\",\"\",\"\",\"\",\"\",\"\",\"\",\"\",\"\"            |\n",
            "|\"00000005,Tech Solutions,Grande,Florianópolis,6201 \",\"\",\"\",\"\",\"\",\"\",\"\",\"\",\"\",\"\"      |\n",
            "|\"00000006,Construtora Beta,Grande,Porto Alegre,4100 \",\"\",\"\",\"\",\"\",\"\",\"\",\"\",\"\",\"\"     |\n",
            "|\"00000007,Supermercado Ideal,Médio,Recife,4711 \",\"\",\"\",\"\",\"\",\"\",\"\",\"\",\"\",\"\"          |\n",
            "|\"00000008,Café Gourmet,Micro,Salvador,5610 \",\"\",\"\",\"\",\"\",\"\",\"\",\"\",\"\",\"\"              |\n",
            "|\"00000009,Consultoria Delta,Pequeno,Brasília,7020 \",\"\",\"\",\"\",\"\",\"\",\"\",\"\",\"\",\"\"       |\n",
            "+-------------------------------------------------------------------------------------+\n",
            "\n"
          ]
        }
      ]
    },
    {
      "cell_type": "code",
      "source": [
        "path2 = '/content/drive/MyDrive/atividades'\n",
        "atividades = spark.read.option(\"multiline\", \"true\").json(path2)\n",
        "atividades.show()\n"
      ],
      "metadata": {
        "colab": {
          "base_uri": "https://localhost:8080/"
        },
        "id": "bRn4yldX5sNf",
        "outputId": "ddf7d1b2-8d65-430a-821f-3c157dce331b"
      },
      "execution_count": 15,
      "outputs": [
        {
          "output_type": "stream",
          "name": "stdout",
          "text": [
            "+----+--------------------+\n",
            "|cnae| descricao_atividade|\n",
            "+----+--------------------+\n",
            "|4100|Construção de edi...|\n",
            "|1071|Fabricação de pro...|\n",
            "|4930|Transporte rodovi...|\n",
            "|4712|Comércio varejist...|\n",
            "|6201|Desenvolvimento d...|\n",
            "|4711|Comércio varejist...|\n",
            "|5610|Restaurantes e si...|\n",
            "|7020|Consultoria em ge...|\n",
            "|1623|Fabricação de mad...|\n",
            "+----+--------------------+\n",
            "\n"
          ]
        }
      ]
    },
    {
      "cell_type": "markdown",
      "source": [
        "Transformação e limpeza dos dados\n"
      ],
      "metadata": {
        "id": "GkGV-AA67RcG"
      }
    },
    {
      "cell_type": "code",
      "source": [
        "empresas.printSchema()"
      ],
      "metadata": {
        "colab": {
          "base_uri": "https://localhost:8080/"
        },
        "id": "tBhxsWBB7Uyu",
        "outputId": "77d6e903-5c5e-4386-c1cc-c80c11b6f2ac"
      },
      "execution_count": 18,
      "outputs": [
        {
          "output_type": "stream",
          "name": "stdout",
          "text": [
            "root\n",
            " |-- cnpj,nome_fantasia,porte,municipio,cnae_principal : string (nullable = true)\n",
            " |-- _c1: string (nullable = true)\n",
            " |-- _c2: string (nullable = true)\n",
            " |-- _c3: string (nullable = true)\n",
            " |-- _c4: string (nullable = true)\n",
            " |-- _c5: string (nullable = true)\n",
            " |-- _c6: string (nullable = true)\n",
            " |-- _c7: string (nullable = true)\n",
            " |-- _c8: string (nullable = true)\n",
            " |-- _c9: string (nullable = true)\n",
            "\n"
          ]
        }
      ]
    },
    {
      "cell_type": "code",
      "source": [
        "from pyspark.sql.functions import split\n",
        "\n",
        "# Dividir a coluna \"value\" com base na vírgula\n",
        "empresas = empresas_raw.withColumn(\"split_cols\", split(empresas_raw[\"value\"], \",\"))\n",
        "\n",
        "# Selecionar e renomear as colunas individuais\n",
        "empresas = empresas.select(\n",
        "    empresas[\"split_cols\"].getItem(0).alias(\"cnpj\"),\n",
        "    empresas[\"split_cols\"].getItem(1).alias(\"nome_fantasia\"),\n",
        "    empresas[\"split_cols\"].getItem(2).alias(\"porte\"),\n",
        "    empresas[\"split_cols\"].getItem(3).alias(\"municipio\"),\n",
        "    empresas[\"split_cols\"].getItem(4).alias(\"cnae_principal\")\n",
        ")\n",
        "\n",
        "# Mostrar o resultado\n",
        "empresas.show()\n",
        "\n"
      ],
      "metadata": {
        "colab": {
          "base_uri": "https://localhost:8080/"
        },
        "id": "GSxTNBHB9phy",
        "outputId": "15dd31be-d375-4753-86f8-4f365be8152f"
      },
      "execution_count": 32,
      "outputs": [
        {
          "output_type": "stream",
          "name": "stdout",
          "text": [
            "+---------+--------------------+-------+--------------+----------------+\n",
            "|     cnpj|       nome_fantasia|  porte|     municipio|  cnae_principal|\n",
            "+---------+--------------------+-------+--------------+----------------+\n",
            "|    \"cnpj|       nome_fantasia|  porte|     municipio|cnae_principal \"|\n",
            "|\"00000001|   Construtora Alpha| Grande|     São Paulo|          4100 \"|\n",
            "|\"00000002|     Padaria Central|Pequeno|Rio de Janeiro|          1071 \"|\n",
            "|\"00000003|Ferreira Transportes|  Médio|Belo Horizonte|          4930 \"|\n",
            "|\"00000004|      Loja Econômica|  Micro|      Curitiba|          4712 \"|\n",
            "|\"00000005|      Tech Solutions| Grande| Florianópolis|          6201 \"|\n",
            "|\"00000006|    Construtora Beta| Grande|  Porto Alegre|          4100 \"|\n",
            "|\"00000007|  Supermercado Ideal|  Médio|        Recife|          4711 \"|\n",
            "|\"00000008|        Café Gourmet|  Micro|      Salvador|          5610 \"|\n",
            "|\"00000009|   Consultoria Delta|Pequeno|      Brasília|          7020 \"|\n",
            "+---------+--------------------+-------+--------------+----------------+\n",
            "\n"
          ]
        }
      ]
    },
    {
      "cell_type": "code",
      "source": [
        "from pyspark.sql.functions import col, regexp_replace\n",
        "\n",
        "# Filtrar as linhas onde \"cnpj\" não contém o texto \"cnpj\"\n",
        "empresas = empresas.filter(~col(\"cnpj\").contains(\"cnpj\"))\n",
        "\n",
        "# Remover as aspas extras das colunas\n",
        "for coluna in empresas.columns:\n",
        "    empresas = empresas.withColumn(coluna, regexp_replace(col(coluna), '\"', ''))\n",
        "\n",
        "# Mostrar o resultado final\n",
        "empresas.show()\n"
      ],
      "metadata": {
        "colab": {
          "base_uri": "https://localhost:8080/"
        },
        "id": "FMapmJImAvHq",
        "outputId": "14298871-243d-49fe-f288-22831b733551"
      },
      "execution_count": 33,
      "outputs": [
        {
          "output_type": "stream",
          "name": "stdout",
          "text": [
            "+--------+--------------------+-------+--------------+--------------+\n",
            "|    cnpj|       nome_fantasia|  porte|     municipio|cnae_principal|\n",
            "+--------+--------------------+-------+--------------+--------------+\n",
            "|00000001|   Construtora Alpha| Grande|     São Paulo|         4100 |\n",
            "|00000002|     Padaria Central|Pequeno|Rio de Janeiro|         1071 |\n",
            "|00000003|Ferreira Transportes|  Médio|Belo Horizonte|         4930 |\n",
            "|00000004|      Loja Econômica|  Micro|      Curitiba|         4712 |\n",
            "|00000005|      Tech Solutions| Grande| Florianópolis|         6201 |\n",
            "|00000006|    Construtora Beta| Grande|  Porto Alegre|         4100 |\n",
            "|00000007|  Supermercado Ideal|  Médio|        Recife|         4711 |\n",
            "|00000008|        Café Gourmet|  Micro|      Salvador|         5610 |\n",
            "|00000009|   Consultoria Delta|Pequeno|      Brasília|         7020 |\n",
            "+--------+--------------------+-------+--------------+--------------+\n",
            "\n"
          ]
        }
      ]
    },
    {
      "cell_type": "markdown",
      "source": [
        "Juntando os dois arquivos"
      ],
      "metadata": {
        "id": "H97gceBVB5h6"
      }
    },
    {
      "cell_type": "code",
      "source": [
        "# Mostrar os valores únicos de cnae no DataFrame empresas\n",
        "empresas.select(\"cnae\").distinct().show()\n",
        "\n",
        "# Mostrar os valores únicos de cnae no DataFrame atividades\n",
        "atividades.select(\"cnae\").distinct().show()\n"
      ],
      "metadata": {
        "colab": {
          "base_uri": "https://localhost:8080/"
        },
        "id": "qsvtwF2CB-No",
        "outputId": "c8a854c5-fd79-4edc-dda2-edf0e7253fa7"
      },
      "execution_count": 36,
      "outputs": [
        {
          "output_type": "stream",
          "name": "stdout",
          "text": [
            "+-----+\n",
            "| cnae|\n",
            "+-----+\n",
            "|4100 |\n",
            "|7020 |\n",
            "|4930 |\n",
            "|6201 |\n",
            "|4711 |\n",
            "|5610 |\n",
            "|4712 |\n",
            "|1071 |\n",
            "+-----+\n",
            "\n",
            "+----+\n",
            "|cnae|\n",
            "+----+\n",
            "|1623|\n",
            "|4930|\n",
            "|1071|\n",
            "|4712|\n",
            "|7020|\n",
            "|4711|\n",
            "|6201|\n",
            "|4100|\n",
            "|5610|\n",
            "+----+\n",
            "\n"
          ]
        }
      ]
    },
    {
      "cell_type": "code",
      "source": [
        "from pyspark.sql.functions import col, trim\n",
        "\n",
        "# Remover espaços em branco e garantir que cnae seja string no DataFrame empresas\n",
        "empresas = empresas.withColumn(\"cnae\", trim(col(\"cnae\")).cast(\"string\"))\n",
        "\n",
        "# Remover espaços em branco e garantir que cnae seja string no DataFrame atividades\n",
        "atividades = atividades.withColumn(\"cnae\", trim(col(\"cnae\")).cast(\"string\"))\n",
        "\n",
        "# Realizar o join entre os dois DataFrames na coluna \"cnae\"\n",
        "resultado = empresas.join(atividades, on=\"cnae\", how=\"inner\")\n",
        "\n",
        "# Mostrar o resultado do join\n",
        "resultado.show()\n",
        "\n",
        "# Salvar o resultado em um único arquivo CSV\n",
        "output_path = \"/content/drive/MyDrive/resultado/resultado_final.csv\"\n",
        "resultado.coalesce(1).write.csv(output_path, header=True, mode=\"overwrite\")\n"
      ],
      "metadata": {
        "colab": {
          "base_uri": "https://localhost:8080/"
        },
        "id": "lISUBGh5DdG0",
        "outputId": "981587b7-c60a-43c2-eecd-2fa12e661764"
      },
      "execution_count": 37,
      "outputs": [
        {
          "output_type": "stream",
          "name": "stdout",
          "text": [
            "+----+--------+--------------------+-------+--------------+--------------------+\n",
            "|cnae|    cnpj|       nome_fantasia|  porte|     municipio| descricao_atividade|\n",
            "+----+--------+--------------------+-------+--------------+--------------------+\n",
            "|4100|00000001|   Construtora Alpha| Grande|     São Paulo|Construção de edi...|\n",
            "|1071|00000002|     Padaria Central|Pequeno|Rio de Janeiro|Fabricação de pro...|\n",
            "|4930|00000003|Ferreira Transportes|  Médio|Belo Horizonte|Transporte rodovi...|\n",
            "|4712|00000004|      Loja Econômica|  Micro|      Curitiba|Comércio varejist...|\n",
            "|6201|00000005|      Tech Solutions| Grande| Florianópolis|Desenvolvimento d...|\n",
            "|4100|00000006|    Construtora Beta| Grande|  Porto Alegre|Construção de edi...|\n",
            "|4711|00000007|  Supermercado Ideal|  Médio|        Recife|Comércio varejist...|\n",
            "|5610|00000008|        Café Gourmet|  Micro|      Salvador|Restaurantes e si...|\n",
            "|7020|00000009|   Consultoria Delta|Pequeno|      Brasília|Consultoria em ge...|\n",
            "+----+--------+--------------------+-------+--------------+--------------------+\n",
            "\n"
          ]
        }
      ]
    },
    {
      "cell_type": "markdown",
      "source": [
        "criando o View"
      ],
      "metadata": {
        "id": "lPMo0wwrIc65"
      }
    },
    {
      "cell_type": "code",
      "source": [
        "resultado.createOrReplaceTempView(\"resultadoview\")"
      ],
      "metadata": {
        "id": "mCKpkd2xIefC"
      },
      "execution_count": 38,
      "outputs": []
    },
    {
      "cell_type": "code",
      "source": [
        "spark.sql(\"select * from resultadoview\").show()"
      ],
      "metadata": {
        "colab": {
          "base_uri": "https://localhost:8080/"
        },
        "id": "RsfzQEYFIoL3",
        "outputId": "cd119f46-662d-4c40-e7f5-c9ff992c2410"
      },
      "execution_count": 39,
      "outputs": [
        {
          "output_type": "stream",
          "name": "stdout",
          "text": [
            "+----+--------+--------------------+-------+--------------+--------------------+\n",
            "|cnae|    cnpj|       nome_fantasia|  porte|     municipio| descricao_atividade|\n",
            "+----+--------+--------------------+-------+--------------+--------------------+\n",
            "|4100|00000001|   Construtora Alpha| Grande|     São Paulo|Construção de edi...|\n",
            "|1071|00000002|     Padaria Central|Pequeno|Rio de Janeiro|Fabricação de pro...|\n",
            "|4930|00000003|Ferreira Transportes|  Médio|Belo Horizonte|Transporte rodovi...|\n",
            "|4712|00000004|      Loja Econômica|  Micro|      Curitiba|Comércio varejist...|\n",
            "|6201|00000005|      Tech Solutions| Grande| Florianópolis|Desenvolvimento d...|\n",
            "|4100|00000006|    Construtora Beta| Grande|  Porto Alegre|Construção de edi...|\n",
            "|4711|00000007|  Supermercado Ideal|  Médio|        Recife|Comércio varejist...|\n",
            "|5610|00000008|        Café Gourmet|  Micro|      Salvador|Restaurantes e si...|\n",
            "|7020|00000009|   Consultoria Delta|Pequeno|      Brasília|Consultoria em ge...|\n",
            "+----+--------+--------------------+-------+--------------+--------------------+\n",
            "\n"
          ]
        }
      ]
    },
    {
      "cell_type": "markdown",
      "source": [
        "Consultas SQL"
      ],
      "metadata": {
        "id": "7RnbF99mJAmR"
      }
    },
    {
      "cell_type": "code",
      "source": [
        "#Contando o número de empresas por porte\n",
        "\n",
        "spark.sql(\"\"\"\n",
        "select porte, count(*) as total_empresas\n",
        "from resultadoview\n",
        "group by porte\n",
        "order by  total_empresas DESC\"\"\").show()"
      ],
      "metadata": {
        "colab": {
          "base_uri": "https://localhost:8080/"
        },
        "id": "Y8OkhePMJCMy",
        "outputId": "2944b460-56e6-477e-fec0-90bdb3718a31"
      },
      "execution_count": 40,
      "outputs": [
        {
          "output_type": "stream",
          "name": "stdout",
          "text": [
            "+-------+--------------+\n",
            "|  porte|total_empresas|\n",
            "+-------+--------------+\n",
            "| Grande|             3|\n",
            "|  Micro|             2|\n",
            "|Pequeno|             2|\n",
            "|  Médio|             2|\n",
            "+-------+--------------+\n",
            "\n"
          ]
        }
      ]
    },
    {
      "cell_type": "code",
      "source": [
        "#Listando os municípios com mais empresas cadastradas\n",
        "spark.sql(\"\"\"select municipio, count(*) as total_empresas\n",
        "from resultadoview\n",
        "group by municipio\n",
        "order by total_empresas DESC \"\"\").show()\n"
      ],
      "metadata": {
        "colab": {
          "base_uri": "https://localhost:8080/"
        },
        "id": "w4vzk-ZlKCGt",
        "outputId": "fc073cf8-ad6f-426b-8a24-bfc588c572a1"
      },
      "execution_count": 42,
      "outputs": [
        {
          "output_type": "stream",
          "name": "stdout",
          "text": [
            "+--------------+--------------+\n",
            "|     municipio|total_empresas|\n",
            "+--------------+--------------+\n",
            "|      Curitiba|             1|\n",
            "| Florianópolis|             1|\n",
            "|Belo Horizonte|             1|\n",
            "|      Salvador|             1|\n",
            "|        Recife|             1|\n",
            "|     São Paulo|             1|\n",
            "|Rio de Janeiro|             1|\n",
            "|      Brasília|             1|\n",
            "|  Porto Alegre|             1|\n",
            "+--------------+--------------+\n",
            "\n"
          ]
        }
      ]
    },
    {
      "cell_type": "code",
      "source": [
        "#buscando empresas do setor de construção\n",
        "\n",
        "spark.sql(\"\"\" select *\n",
        "from resultadoview\n",
        "where descricao_atividade LIKE '%Construção%'\"\"\").show()"
      ],
      "metadata": {
        "colab": {
          "base_uri": "https://localhost:8080/"
        },
        "id": "ztKBKnWTLRX6",
        "outputId": "e2357685-95d7-4693-d57e-c0ef6c58fc1d"
      },
      "execution_count": 44,
      "outputs": [
        {
          "output_type": "stream",
          "name": "stdout",
          "text": [
            "+----+--------+-----------------+------+------------+--------------------+\n",
            "|cnae|    cnpj|    nome_fantasia| porte|   municipio| descricao_atividade|\n",
            "+----+--------+-----------------+------+------------+--------------------+\n",
            "|4100|00000001|Construtora Alpha|Grande|   São Paulo|Construção de edi...|\n",
            "|4100|00000006| Construtora Beta|Grande|Porto Alegre|Construção de edi...|\n",
            "+----+--------+-----------------+------+------------+--------------------+\n",
            "\n"
          ]
        }
      ]
    },
    {
      "cell_type": "code",
      "source": [
        "#distribuir empresas por atividade economica\n",
        "\n",
        "spark.sql(\"\"\"select descricao_atividade,count(*) as total_empresas\n",
        "from resultadoview\n",
        "group by descricao_atividade\n",
        "order by total_empresas DESC\"\"\").show()"
      ],
      "metadata": {
        "colab": {
          "base_uri": "https://localhost:8080/"
        },
        "id": "4pSeO5AYL2ji",
        "outputId": "e8a6ef27-05fb-4120-9592-d3109f91f5f0"
      },
      "execution_count": 45,
      "outputs": [
        {
          "output_type": "stream",
          "name": "stdout",
          "text": [
            "+--------------------+--------------+\n",
            "| descricao_atividade|total_empresas|\n",
            "+--------------------+--------------+\n",
            "|Construção de edi...|             2|\n",
            "|Comércio varejist...|             1|\n",
            "|Transporte rodovi...|             1|\n",
            "|Restaurantes e si...|             1|\n",
            "|Consultoria em ge...|             1|\n",
            "|Fabricação de pro...|             1|\n",
            "|Desenvolvimento d...|             1|\n",
            "|Comércio varejist...|             1|\n",
            "+--------------------+--------------+\n",
            "\n"
          ]
        }
      ]
    },
    {
      "cell_type": "code",
      "source": [
        "#empresas grandes e suas atividades economicas\n",
        "\n",
        "spark.sql(\"\"\" select nome_fantasia, municipio, descricao_atividade\n",
        "from resultadoview\n",
        "where porte =='Grande'\n",
        "order by municipio \"\"\").show()"
      ],
      "metadata": {
        "colab": {
          "base_uri": "https://localhost:8080/"
        },
        "id": "QtTMkvhWN-BO",
        "outputId": "caf9c683-d6d5-4e8a-e541-13c4972966c1"
      },
      "execution_count": 46,
      "outputs": [
        {
          "output_type": "stream",
          "name": "stdout",
          "text": [
            "+-----------------+-------------+--------------------+\n",
            "|    nome_fantasia|    municipio| descricao_atividade|\n",
            "+-----------------+-------------+--------------------+\n",
            "|   Tech Solutions|Florianópolis|Desenvolvimento d...|\n",
            "| Construtora Beta| Porto Alegre|Construção de edi...|\n",
            "|Construtora Alpha|    São Paulo|Construção de edi...|\n",
            "+-----------------+-------------+--------------------+\n",
            "\n"
          ]
        }
      ]
    },
    {
      "cell_type": "markdown",
      "source": [],
      "metadata": {
        "id": "jdDRT3o3DnYv"
      }
    },
    {
      "cell_type": "code",
      "source": [
        "#Atividades com maior concentração de empresas micro e pequeno porte\n",
        "\n",
        "spark.sql(\"\"\"select descricao_atividade, count(*) as total_empresas\n",
        "from resultadoview\n",
        "where porte in ('Micro', 'Pequeno')\n",
        "group by descricao_atividade\n",
        "order by total_empresas DESC\n",
        " \"\"\").show()"
      ],
      "metadata": {
        "colab": {
          "base_uri": "https://localhost:8080/"
        },
        "id": "n7AQh-j9OpU4",
        "outputId": "b183902e-be01-4973-c41f-d5ee5d8bdfb9"
      },
      "execution_count": 47,
      "outputs": [
        {
          "output_type": "stream",
          "name": "stdout",
          "text": [
            "+--------------------+--------------+\n",
            "| descricao_atividade|total_empresas|\n",
            "+--------------------+--------------+\n",
            "|Comércio varejist...|             1|\n",
            "|Fabricação de pro...|             1|\n",
            "|Restaurantes e si...|             1|\n",
            "|Consultoria em ge...|             1|\n",
            "+--------------------+--------------+\n",
            "\n"
          ]
        }
      ]
    },
    {
      "cell_type": "code",
      "source": [
        "#Empresas de TI em cidades grandes\n",
        "\n",
        "spark.sql(\"\"\"SELECT nome_fantasia, municipio, porte\n",
        "FROM resultadoview\n",
        "WHERE descricao_atividade LIKE '%Desenvolvimento de programas%'\n",
        "AND porte = 'Grande' \"\"\").show()\n"
      ],
      "metadata": {
        "colab": {
          "base_uri": "https://localhost:8080/"
        },
        "id": "-aveF5TIPzK9",
        "outputId": "537d56ac-9c8a-4020-c83d-4db504509091"
      },
      "execution_count": 48,
      "outputs": [
        {
          "output_type": "stream",
          "name": "stdout",
          "text": [
            "+--------------+-------------+------+\n",
            "| nome_fantasia|    municipio| porte|\n",
            "+--------------+-------------+------+\n",
            "|Tech Solutions|Florianópolis|Grande|\n",
            "+--------------+-------------+------+\n",
            "\n"
          ]
        }
      ]
    },
    {
      "cell_type": "code",
      "source": [
        "spark.stop()"
      ],
      "metadata": {
        "id": "3KYRRxyVQkUf"
      },
      "execution_count": 50,
      "outputs": []
    }
  ]
}